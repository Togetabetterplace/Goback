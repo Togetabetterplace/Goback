{
 "cells": [
  {
   "cell_type": "code",
   "execution_count": 1,
   "metadata": {},
   "outputs": [
    {
     "name": "stdout",
     "output_type": "stream",
     "text": [
      "[10.0]\n",
      "[8.0, 2.0]\n",
      "[7.0, 3.0]\n",
      "[6.0, 4.0]\n",
      "[6.0, 2.0, 2.0]\n",
      "[5.0, 5.0]\n",
      "[5.0, 3.0, 2.0]\n",
      "[4.0, 4.0, 2.0]\n",
      "[4.0, 3.0, 3.0]\n",
      "[4.0, 2.0, 2.0, 2.0]\n",
      "[3.0, 3.0, 2.0, 2.0]\n",
      "[2.0, 2.0, 2.0, 2.0, 2.0]\n",
      "[[10.0], [8.0, 2.0], [7.0, 3.0], [6.0, 4.0], [6.0, 2.0, 2.0], [5.0, 5.0], [5.0, 3.0, 2.0], [4.0, 4.0, 2.0], [4.0, 3.0, 3.0], [4.0, 2.0, 2.0, 2.0], [3.0, 3.0, 2.0, 2.0], [2.0, 2.0, 2.0, 2.0, 2.0]]\n"
     ]
    }
   ],
   "source": [
    "import numpy as np\n",
    "import itertools\n",
    "import pandas\n",
    "import math\n",
    "\n",
    "def divide(sum, k, pre, n):\n",
    "    if sum > n:\n",
    "        return\n",
    "    elif sum == n:\n",
    "        a = [] # 这种声明要放到训循环内，\n",
    "               # 放循环外只有一个地址，会发生数据覆盖\n",
    "        for i in range(0, k):\n",
    "            a.append(mark[i])\n",
    "        # if 1.0 not in a:\n",
    "        print(a)\n",
    "        b.append(a)\n",
    "    else:\n",
    "        j = pre\n",
    "        while j > 1:\n",
    "            mark[k] = j\n",
    "            sum += j\n",
    "            divide(sum, k + 1, j, n)\n",
    "            sum -= j\n",
    "            j -= 1\n",
    "            \n",
    "mark = np.zeros(1000000)\n",
    "b = []\n",
    "if __name__ == \"__main__\":\n",
    "    n = 10\n",
    "    divide(0, 0, n, n)\n",
    "    print(b)\n",
    "\n",
    "    # print(marks)\n",
    "    # print(res) "
   ]
  },
  {
   "cell_type": "code",
   "execution_count": null,
   "metadata": {},
   "outputs": [],
   "source": [
    "import numpy as np\n",
    "import itertools\n",
    "import pandas\n",
    "import math\n",
    "\n",
    "\n",
    "def divide(sum, k, pre, n):\n",
    "    if sum > n:\n",
    "        return\n",
    "    elif sum == n:\n",
    "        # print(\"{\",end = \" \")\n",
    "        # for i in range(0, k-1):\n",
    "        #     print(mark[i], \",\",end=\" \")\n",
    "        # print(mark[k-1],\"}\\n\")#\n",
    "\n",
    "        a = [] # 这种声明要放到训循环内，\n",
    "               # 放循环外只有一个地址，会发生数据覆盖\n",
    "        for i in range(0, k):\n",
    "            a.append(mark[i])\n",
    "        # if 1.0 not in a:\n",
    "        print(a)\n",
    "        b.append(a)\n",
    "        # print(len(b))\n",
    "        \n",
    "    else:\n",
    "        j = pre\n",
    "        while j > 1:\n",
    "            mark[k] = j\n",
    "            sum += j\n",
    "            divide(sum, k + 1, j, n)\n",
    "            sum -= j\n",
    "            j -= 1\n",
    "    return len(b)\n",
    "        \n",
    "mark = np.zeros(1000000)\n",
    "b = []\n",
    "\n",
    "if __name__ == \"__main__\":\n",
    "    n=80\n",
    "    nu=divide(0,0,n,n)\n",
    "    print(nu)\n",
    "\n"
   ]
  },
  {
   "cell_type": "code",
   "execution_count": null,
   "metadata": {},
   "outputs": [],
   "source": [
    "import math\n",
    "\n",
    "\n",
    "def func(n, m):\n",
    "    if n == 1:\n",
    "        return 0\n",
    "    elif m == 1:\n",
    "        return 1\n",
    "    elif n < m:\n",
    "        return func(n, int(n / 2))\n",
    "    elif n == m:\n",
    "        return func(n, int(n / 2))\n",
    "    else:\n",
    "        if m - 1 <= int(n / 2) and m <= int((n - m) / 2):\n",
    "            return func(n, m - 1) + func(n - m, m)\n",
    "        elif m - 1 > int(n / 2) and m <= int((n - m) / 2):\n",
    "            return func(n, int(n / 2)) + func(n - m, m)\n",
    "        elif m - 1 <= int(n / 2) and m > int((n - m) / 2):\n",
    "            return func(n, m - 1) + func(n - m, int((n - m) / 2))\n",
    "        else:\n",
    "            return func(n, int(n / 2)) + func(n - m, int((n - m) / 2))\n",
    "\n",
    "\n",
    "if __name__ == \"__main__\":\n",
    "    n = 80\n",
    "    print(func(n, int(n/2)))\n",
    "    # print(marks)\n",
    "    # print(res)\n"
   ]
  },
  {
   "cell_type": "code",
   "execution_count": 6,
   "metadata": {},
   "outputs": [
    {
     "name": "stdout",
     "output_type": "stream",
     "text": [
      "21339417\n"
     ]
    }
   ],
   "source": [
    "def funcs(n, m):\n",
    "    if n == 1 or n <= 0 or m < 1:\n",
    "        return 0\n",
    "    elif m == 1 or m == n or m == n-1:\n",
    "        return 1\n",
    "    else:\n",
    "        return funcs(n - 1, m - 1) + funcs(n - m, m)\n",
    "    # \n",
    "\n",
    "if __name__ == \"__main__\":\n",
    "    n = 100\n",
    "    num=0\n",
    "    for i in range (n):\n",
    "        num+=funcs(n-i,i)\n",
    "    print(num)\n",
    "    # print(marks)\n",
    "    # \n",
    "    # print(res)"
   ]
  }
 ],
 "metadata": {
  "kernelspec": {
   "display_name": "Python 3",
   "language": "python",
   "name": "python3"
  },
  "language_info": {
   "codemirror_mode": {
    "name": "ipython",
    "version": 3
   },
   "file_extension": ".py",
   "mimetype": "text/x-python",
   "name": "python",
   "nbconvert_exporter": "python",
   "pygments_lexer": "ipython3",
   "version": "3.9.13"
  },
  "orig_nbformat": 4
 },
 "nbformat": 4,
 "nbformat_minor": 2
}

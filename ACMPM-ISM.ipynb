{
 "cells": [
  {
   "cell_type": "code",
   "execution_count": 1,
   "metadata": {},
   "outputs": [
    {
     "ename": "KeyError",
     "evalue": "\"None of ['F'] are in the columns\"",
     "output_type": "error",
     "traceback": [
      "\u001b[1;31m---------------------------------------------------------------------------\u001b[0m",
      "\u001b[1;31mKeyError\u001b[0m                                  Traceback (most recent call last)",
      "\u001b[1;32md:\\software_bag_X\\MicrosoftVScodefiles\\ACMPM-ISM.ipynb 单元格 1\u001b[0m line \u001b[0;36m9\n\u001b[0;32m      <a href='vscode-notebook-cell:/d%3A/software_bag_X/MicrosoftVScodefiles/ACMPM-ISM.ipynb#W0sZmlsZQ%3D%3D?line=6'>7</a>\u001b[0m df\u001b[39m=\u001b[39mpd\u001b[39m.\u001b[39mread_excel(file_path,sheet_name\u001b[39m=\u001b[39msheetName)\n\u001b[0;32m      <a href='vscode-notebook-cell:/d%3A/software_bag_X/MicrosoftVScodefiles/ACMPM-ISM.ipynb#W0sZmlsZQ%3D%3D?line=7'>8</a>\u001b[0m \u001b[39m#处理一下，转为arrary\u001b[39;00m\n\u001b[1;32m----> <a href='vscode-notebook-cell:/d%3A/software_bag_X/MicrosoftVScodefiles/ACMPM-ISM.ipynb#W0sZmlsZQ%3D%3D?line=8'>9</a>\u001b[0m df\u001b[39m.\u001b[39;49mset_index(\u001b[39m'\u001b[39;49m\u001b[39mF\u001b[39;49m\u001b[39m'\u001b[39;49m,inplace\u001b[39m=\u001b[39;49m\u001b[39mTrue\u001b[39;49;00m)\n\u001b[0;32m     <a href='vscode-notebook-cell:/d%3A/software_bag_X/MicrosoftVScodefiles/ACMPM-ISM.ipynb#W0sZmlsZQ%3D%3D?line=9'>10</a>\u001b[0m df\u001b[39m.\u001b[39mindex\u001b[39m.\u001b[39mname\u001b[39m=\u001b[39m\u001b[39mNone\u001b[39;00m\n\u001b[0;32m     <a href='vscode-notebook-cell:/d%3A/software_bag_X/MicrosoftVScodefiles/ACMPM-ISM.ipynb#W0sZmlsZQ%3D%3D?line=10'>11</a>\u001b[0m array\u001b[39m=\u001b[39mnp\u001b[39m.\u001b[39marray(df)\n",
      "File \u001b[1;32md:\\software_bag_X\\py_place\\PyCharm Community Edition 2022.3.2\\Python\\Python39\\lib\\site-packages\\pandas\\core\\frame.py:5870\u001b[0m, in \u001b[0;36mDataFrame.set_index\u001b[1;34m(self, keys, drop, append, inplace, verify_integrity)\u001b[0m\n\u001b[0;32m   5867\u001b[0m                 missing\u001b[39m.\u001b[39mappend(col)\n\u001b[0;32m   5869\u001b[0m \u001b[39mif\u001b[39;00m missing:\n\u001b[1;32m-> 5870\u001b[0m     \u001b[39mraise\u001b[39;00m \u001b[39mKeyError\u001b[39;00m(\u001b[39mf\u001b[39m\u001b[39m\"\u001b[39m\u001b[39mNone of \u001b[39m\u001b[39m{\u001b[39;00mmissing\u001b[39m}\u001b[39;00m\u001b[39m are in the columns\u001b[39m\u001b[39m\"\u001b[39m)\n\u001b[0;32m   5872\u001b[0m \u001b[39mif\u001b[39;00m inplace:\n\u001b[0;32m   5873\u001b[0m     frame \u001b[39m=\u001b[39m \u001b[39mself\u001b[39m\n",
      "\u001b[1;31mKeyError\u001b[0m: \"None of ['F'] are in the columns\""
     ]
    }
   ],
   "source": [
    "import numpy as np\n",
    "import pandas as pd\n",
    "import numpy.matlib\n",
    "#用pandas导入数据\n",
    "file_path='output_excel.xlsx'\n",
    "sheetName='Sheet1'\n",
    "df=pd.read_excel(file_path,sheet_name=sheetName)\n",
    "#处理一下，转为arrary\n",
    "df.set_index('F',inplace=True)\n",
    "df.index.name=None\n",
    "array=np.array(df)\n",
    "#转为矩阵\n",
    "A=np.matrix(array)\n",
    "#生成一个单位矩阵\n",
    "I=np.matlib.identity(len(A))\n",
    "#计算A+I\n",
    "new_matrix=A+I\n",
    "old_matrix=new_matrix\n",
    "m=0\n",
    "step=1\n",
    "while m==0:\n",
    "    old_matrix=new_matrix\n",
    "    new_matrix=old_matrix*new_matrix\n",
    "    for i in range(len(new_matrix)):\n",
    "        for j in range(len(new_matrix)):\n",
    "            if new_matrix[i,j]>=1:\n",
    "                new_matrix[i,j]=1\n",
    "    step+=1\n",
    "    print(step)\n",
    "# 求解打印出可达矩阵并保存为文件\n",
    "    if (old_matrix==new_matrix).all():\n",
    "        m=1\n",
    "        print(new_matrix,step)\n",
    "        pd_matrix=pd.DataFrame(new_matrix)\n",
    "        pd_matrix.to_csv('./可达矩阵和分级(45).csv')\n",
    "# 元素分级\n",
    "P=np.array(new_matrix)\n",
    "\n",
    "zero=np.zeros(shape=(len(P),len(P)))\n",
    "r=1\n",
    "while not (P==zero).all():\n",
    "    for i in range(0,len(P)):\n",
    "        R=[x+1 for (x,val) in enumerate(P[i,:]) if val==1]\n",
    "        A=[x+1 for (x,val) in enumerate(P[:,i]) if val==1]\n",
    "        C=set(R).intersection(set(A))#返回交集\n",
    "        if len(C)==len(R) and len(R)!=0 and len(A)!=0:\n",
    "# 打印出分级结果\n",
    "            print('第'+str(r)+'级元素为'+str(i+1))\n",
    "            P[i,i]=0\n",
    "    for x in range(0,len(P)):\n",
    "        if P[x,x]==0:\n",
    "            P[x,:]=0\n",
    "            P[:,x]=0\n",
    "    r+=1"
   ]
  }
 ],
 "metadata": {
  "kernelspec": {
   "display_name": "Python 3",
   "language": "python",
   "name": "python3"
  },
  "language_info": {
   "codemirror_mode": {
    "name": "ipython",
    "version": 3
   },
   "file_extension": ".py",
   "mimetype": "text/x-python",
   "name": "python",
   "nbconvert_exporter": "python",
   "pygments_lexer": "ipython3",
   "version": "3.9.13"
  }
 },
 "nbformat": 4,
 "nbformat_minor": 2
}

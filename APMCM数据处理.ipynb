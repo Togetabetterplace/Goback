{
 "cells": [
  {
   "cell_type": "code",
   "execution_count": 20,
   "metadata": {},
   "outputs": [],
   "source": [
    "import pandas as pd\n",
    "from scipy.interpolate import CubicSpline\n",
    "\n",
    "# 读取Excel文件\n",
    "df = pd.read_excel(r\"C:\\Users\\21550\\Desktop\\数据\\中国_节能与新能源汽车_销量（月）.xlsx\")\n",
    "\n",
    "df.replace('N/A', pd.NA, inplace=True)\n",
    "\n",
    "# 将时间列转换为日期类型\n",
    "df['指标名称'] = pd.to_datetime(df['指标名称'])\n",
    "\n",
    "# 设置新的日期列，精确到月份\n",
    "df['月份'] = df['指标名称'].dt.to_period('M')\n",
    "\n",
    "f = df['月份']\n",
    "\n",
    "# 累加精确到日的数据，转换为精确到月的数据\n",
    "# df_monthly = df.groupby('月份').sum()\n",
    "\n",
    "\n",
    "# # 合并精确到月的数据和插值后的数据\n",
    "df_final = pd.merge(f,df,on='月份',how='outer')#pd.merge(df_interp1,df_interp2,df_interp3,df_monthly, df_interp, on='指标名称', how='outer')\n",
    "\n",
    "\n",
    "# 将结果保存为新的Excel文件\n",
    "df_final.to_excel('output_file1.xlsx', index=False)\n"
   ]
  },
  {
   "cell_type": "code",
   "execution_count": 21,
   "metadata": {},
   "outputs": [
    {
     "name": "stderr",
     "output_type": "stream",
     "text": [
      "C:\\Users\\21550\\AppData\\Local\\Temp\\ipykernel_32632\\2011944820.py:11: FutureWarning: DataFrame.interpolate with object dtype is deprecated and will raise in a future version. Call obj.infer_objects(copy=False) before interpolating instead.\n",
      "  interpolated_data = data.interpolate(method='spline', order=3)\n"
     ]
    }
   ],
   "source": [
    "import pandas as pd\n",
    "\n",
    "# 读取包含缺失值的Excel文件\n",
    "data = pd.read_excel('output_file4.xlsx')\n",
    "\n",
    "# 将时间列设置为索引\n",
    "data['月份'] = pd.to_datetime(data['月份'])\n",
    "data.set_index('月份', inplace=True)\n",
    "\n",
    "# 使用样条插值对缺失值进行插值处理\n",
    "interpolated_data = data.interpolate(method='spline', order=3)\n",
    "\n",
    "# 将插值后的数据保存到新的Excel文件中\n",
    "interpolated_data.to_excel('interpolated_data.xlsx')\n"
   ]
  }
 ],
 "metadata": {
  "kernelspec": {
   "display_name": "Python 3",
   "language": "python",
   "name": "python3"
  },
  "language_info": {
   "codemirror_mode": {
    "name": "ipython",
    "version": 3
   },
   "file_extension": ".py",
   "mimetype": "text/x-python",
   "name": "python",
   "nbconvert_exporter": "python",
   "pygments_lexer": "ipython3",
   "version": "3.9.13"
  }
 },
 "nbformat": 4,
 "nbformat_minor": 2
}
